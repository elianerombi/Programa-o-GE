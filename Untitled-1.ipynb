{
 "cells": [
  {
   "cell_type": "code",
   "execution_count": null,
   "metadata": {
    "vscode": {
     "languageId": "html"
    }
   },
   "outputs": [],
   "source": [
    "<!DOCTYPE html>\n",
    "\n",
    "<html>\n",
    "\n",
    "<head>\n",
    "<title>Page Title</title>\n",
    "</head>\n",
    "<body>\n",
    "\n",
    "    <h1>Reino Plantae</h1>\n",
    "\n",
    "    <h2>Evolução e Classificação das plantas</h2>\n",
    "\n",
    "    \n",
    "\n",
    "    <p>As plantas são organismos autotróficos (produzem seu próprio alimento por meio da fotossíntese).</p>\n",
    "\n",
    "\n",
    "    <p>Um dos critérios para a classificação das plantas é a presença, ou não de vasos condutores de seiva.Plantas sem vasos condutores são chamadas avasculares. Plantas com vasos condutores são dnominadas vasculares</p>\n",
    "\n",
    "\n",
    "     <p>Os vegetais estão agrupados em quatro grupos: Briófitas, Pteridófitas, Gimnospermas e Angiospermas\n",
    "</body>\n",
    "\n",
    "</html>\n"
   ]
  }
 ],
 "metadata": {
  "language_info": {
   "name": "python"
  },
  "orig_nbformat": 4
 },
 "nbformat": 4,
 "nbformat_minor": 2
}
